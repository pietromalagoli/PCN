{
 "cells": [
  {
   "cell_type": "code",
   "execution_count": 1,
   "metadata": {
    "vscode": {
     "languageId": "r"
    }
   },
   "outputs": [
    {
     "name": "stderr",
     "output_type": "stream",
     "text": [
      "\n",
      "Attaching package: ‘igraph’\n",
      "\n",
      "\n",
      "The following objects are masked from ‘package:stats’:\n",
      "\n",
      "    decompose, spectrum\n",
      "\n",
      "\n",
      "The following object is masked from ‘package:base’:\n",
      "\n",
      "    union\n",
      "\n",
      "\n",
      "This build of rgl does not include OpenGL functions.  Use\n",
      " rglwidget() to display results, e.g. via options(rgl.printRglwidget = TRUE).\n",
      "\n"
     ]
    }
   ],
   "source": [
    "library(igraph)\n",
    "library(ggplot2)\n",
    "library(RColorBrewer)\n",
    "library(rgl)"
   ]
  },
  {
   "cell_type": "code",
   "execution_count": 27,
   "metadata": {
    "vscode": {
     "languageId": "r"
    }
   },
   "outputs": [
    {
     "data": {
      "text/plain": [
       "+ 50/50 vertices, from d1c4634:\n",
       " [1]  1  2  3  4  5  6  7  8  9 10 11 12 13 14 15 16 17 18 19 20 21 22 23 24 25\n",
       "[26] 26 27 28 29 30 31 32 33 34 35 36 37 38 39 40 41 42 43 44 45 46 47 48 49 50"
      ]
     },
     "metadata": {},
     "output_type": "display_data"
    },
    {
     "ename": "ERROR",
     "evalue": "Error in simple_vs_index(x, ii, na_ok): Unknown vertex selected\n",
     "output_type": "error",
     "traceback": [
      "Error in simple_vs_index(x, ii, na_ok): Unknown vertex selected\nTraceback:\n",
      "1. attack(g, n)",
      "2. nodes[1:n]   # at line 40 of file <text>",
      "3. `[.igraph.vs`(nodes, 1:n)   # at line 40 of file <text>",
      "4. lapply(res, function(ii) {\n .     if (is.null(ii)) {\n .         return(NULL)\n .     }\n .     ii <- simple_vs_index(x, ii, na_ok)\n .     attr(ii, \"env\") <- attr(x, \"env\")\n .     attr(ii, \"graph\") <- attr(x, \"graph\")\n .     class(ii) <- class(x)\n .     ii\n . })",
      "5. FUN(X[[i]], ...)",
      "6. simple_vs_index(x, ii, na_ok)",
      "7. stop(\"Unknown vertex selected\")"
     ]
    }
   ],
   "source": [
    "source(\"/home/pietromalagoli/PCN/common.R\")\n",
    "\n",
    "set.seed(12345)\n",
    "\n",
    "N <- 200\n",
    "\n",
    "g <- erdos.renyi.game(N, p = 2*log(N)/N, directed = FALSE)\n",
    "#V(g) \n",
    "\n",
    "failure <- function(g, n) {\n",
    "    # attributes:\n",
    "    # g : graph\n",
    "    # n: number st of random nodes to remove\n",
    "    nodes <- V(g)\n",
    "\n",
    "    list <- sample(min(nodes):max(nodes), n, replace = FALSE )\n",
    "    #print(list)\n",
    "    nodes <- nodes[list]\n",
    "    #print(nodes)\n",
    "    return(delete_vertices(g, nodes))\n",
    "}\n",
    "\n",
    "\n",
    "attack <- function(g, n) {\n",
    "    # attributes:\n",
    "    # g : graph\n",
    "    # list: list of random nodes to remove\n",
    "    if (n == 0) {\n",
    "        return(g)\n",
    "        next\n",
    "    }\n",
    "    nodes <- V(g)\n",
    "\n",
    "    # Calculate the degree of all the nodes\n",
    "    degrees <- degree(g)\n",
    "\n",
    "    # Order the nodes for decreasing degree\n",
    "    ordered_index <- order(degrees, decreasing = TRUE)\n",
    "    nodes <- nodes[ordered_index]\n",
    "    nodes <- nodes[1:n]\n",
    "    return(delete_vertices(g, nodes))\n",
    "}\n",
    "\n",
    "#V(failure(g, 10))\n",
    "#g <- attack(g, 10)\n",
    "#V(g)\n",
    "g <- failure(g, 150)\n",
    "V(g)\n",
    "for (n in 0:200) {\n",
    "    g <- attack(g, n)\n",
    "    degrees <- degree(g)\n",
    "}\n",
    "plot(n, degrees)\n",
    "#hist(degree(g))"
   ]
  }
 ],
 "metadata": {
  "kernelspec": {
   "display_name": "R",
   "language": "R",
   "name": "ir"
  },
  "language_info": {
   "codemirror_mode": "r",
   "file_extension": ".r",
   "mimetype": "text/x-r-source",
   "name": "R",
   "pygments_lexer": "r",
   "version": "4.3.3"
  }
 },
 "nbformat": 4,
 "nbformat_minor": 2
}
