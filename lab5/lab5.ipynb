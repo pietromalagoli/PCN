{
 "cells": [
  {
   "cell_type": "markdown",
   "metadata": {},
   "source": [
    "1) Use population data to build exponential and power-law gravity models. Fit the parameters"
   ]
  },
  {
   "cell_type": "code",
   "execution_count": 21,
   "metadata": {
    "vscode": {
     "languageId": "r"
    }
   },
   "outputs": [],
   "source": [
    "library(\"geosphere\")\n",
    "library(\"ggplot2\")"
   ]
  },
  {
   "cell_type": "code",
   "execution_count": 5,
   "metadata": {
    "vscode": {
     "languageId": "r"
    }
   },
   "outputs": [],
   "source": [
    "edges <- read.csv(\"/home/pietromalagoli/PCN/lab5/ITA_edges.csv\")\n",
    "nodes <- read.csv(\"/home/pietromalagoli/PCN/lab5/ITA_nodes.csv\")"
   ]
  },
  {
   "cell_type": "code",
   "execution_count": 8,
   "metadata": {
    "vscode": {
     "languageId": "r"
    }
   },
   "outputs": [
    {
     "data": {
      "text/html": [
       "<table class=\"dataframe\">\n",
       "<caption>A data.frame: 6 × 9</caption>\n",
       "<thead>\n",
       "\t<tr><th></th><th scope=col>adm_id</th><th scope=col>population</th><th scope=col>adm_name</th><th scope=col>adm_code</th><th scope=col>lat</th><th scope=col>lon</th><th scope=col>nuts3</th><th scope=col>GDPpc</th><th scope=col>urbn_type</th></tr>\n",
       "\t<tr><th></th><th scope=col>&lt;int&gt;</th><th scope=col>&lt;int&gt;</th><th scope=col>&lt;chr&gt;</th><th scope=col>&lt;chr&gt;</th><th scope=col>&lt;dbl&gt;</th><th scope=col>&lt;dbl&gt;</th><th scope=col>&lt;chr&gt;</th><th scope=col>&lt;int&gt;</th><th scope=col>&lt;int&gt;</th></tr>\n",
       "</thead>\n",
       "<tbody>\n",
       "\t<tr><th scope=row>1</th><td>1</td><td>2259523</td><td>Torino     </td><td>TO</td><td>45.14480</td><td>7.439097</td><td>ITC11</td><td>33400</td><td>1</td></tr>\n",
       "\t<tr><th scope=row>2</th><td>2</td><td> 170911</td><td>Vercelli   </td><td>VC</td><td>45.52501</td><td>8.209330</td><td>ITC12</td><td>27800</td><td>2</td></tr>\n",
       "\t<tr><th scope=row>3</th><td>3</td><td> 369018</td><td>Novara     </td><td>NO</td><td>45.56308</td><td>8.553779</td><td>ITC15</td><td>30100</td><td>2</td></tr>\n",
       "\t<tr><th scope=row>4</th><td>4</td><td> 587098</td><td>Cuneo      </td><td>CN</td><td>44.47688</td><td>7.588076</td><td>ITC16</td><td>32700</td><td>3</td></tr>\n",
       "\t<tr><th scope=row>5</th><td>5</td><td> 214638</td><td>Asti       </td><td>AT</td><td>44.87758</td><td>8.186116</td><td>ITC17</td><td>25900</td><td>3</td></tr>\n",
       "\t<tr><th scope=row>6</th><td>6</td><td> 421284</td><td>Alessandria</td><td>AL</td><td>44.82876</td><td>8.663018</td><td>ITC18</td><td>28500</td><td>3</td></tr>\n",
       "</tbody>\n",
       "</table>\n"
      ],
      "text/latex": [
       "A data.frame: 6 × 9\n",
       "\\begin{tabular}{r|lllllllll}\n",
       "  & adm\\_id & population & adm\\_name & adm\\_code & lat & lon & nuts3 & GDPpc & urbn\\_type\\\\\n",
       "  & <int> & <int> & <chr> & <chr> & <dbl> & <dbl> & <chr> & <int> & <int>\\\\\n",
       "\\hline\n",
       "\t1 & 1 & 2259523 & Torino      & TO & 45.14480 & 7.439097 & ITC11 & 33400 & 1\\\\\n",
       "\t2 & 2 &  170911 & Vercelli    & VC & 45.52501 & 8.209330 & ITC12 & 27800 & 2\\\\\n",
       "\t3 & 3 &  369018 & Novara      & NO & 45.56308 & 8.553779 & ITC15 & 30100 & 2\\\\\n",
       "\t4 & 4 &  587098 & Cuneo       & CN & 44.47688 & 7.588076 & ITC16 & 32700 & 3\\\\\n",
       "\t5 & 5 &  214638 & Asti        & AT & 44.87758 & 8.186116 & ITC17 & 25900 & 3\\\\\n",
       "\t6 & 6 &  421284 & Alessandria & AL & 44.82876 & 8.663018 & ITC18 & 28500 & 3\\\\\n",
       "\\end{tabular}\n"
      ],
      "text/markdown": [
       "\n",
       "A data.frame: 6 × 9\n",
       "\n",
       "| <!--/--> | adm_id &lt;int&gt; | population &lt;int&gt; | adm_name &lt;chr&gt; | adm_code &lt;chr&gt; | lat &lt;dbl&gt; | lon &lt;dbl&gt; | nuts3 &lt;chr&gt; | GDPpc &lt;int&gt; | urbn_type &lt;int&gt; |\n",
       "|---|---|---|---|---|---|---|---|---|---|\n",
       "| 1 | 1 | 2259523 | Torino      | TO | 45.14480 | 7.439097 | ITC11 | 33400 | 1 |\n",
       "| 2 | 2 |  170911 | Vercelli    | VC | 45.52501 | 8.209330 | ITC12 | 27800 | 2 |\n",
       "| 3 | 3 |  369018 | Novara      | NO | 45.56308 | 8.553779 | ITC15 | 30100 | 2 |\n",
       "| 4 | 4 |  587098 | Cuneo       | CN | 44.47688 | 7.588076 | ITC16 | 32700 | 3 |\n",
       "| 5 | 5 |  214638 | Asti        | AT | 44.87758 | 8.186116 | ITC17 | 25900 | 3 |\n",
       "| 6 | 6 |  421284 | Alessandria | AL | 44.82876 | 8.663018 | ITC18 | 28500 | 3 |\n",
       "\n"
      ],
      "text/plain": [
       "  adm_id population adm_name    adm_code lat      lon      nuts3 GDPpc\n",
       "1 1      2259523    Torino      TO       45.14480 7.439097 ITC11 33400\n",
       "2 2       170911    Vercelli    VC       45.52501 8.209330 ITC12 27800\n",
       "3 3       369018    Novara      NO       45.56308 8.553779 ITC15 30100\n",
       "4 4       587098    Cuneo       CN       44.47688 7.588076 ITC16 32700\n",
       "5 5       214638    Asti        AT       44.87758 8.186116 ITC17 25900\n",
       "6 6       421284    Alessandria AL       44.82876 8.663018 ITC18 28500\n",
       "  urbn_type\n",
       "1 1        \n",
       "2 2        \n",
       "3 2        \n",
       "4 3        \n",
       "5 3        \n",
       "6 3        "
      ]
     },
     "metadata": {},
     "output_type": "display_data"
    }
   ],
   "source": [
    "head(nodes)"
   ]
  },
  {
   "cell_type": "code",
   "execution_count": 18,
   "metadata": {
    "vscode": {
     "languageId": "r"
    }
   },
   "outputs": [],
   "source": [
    "dist_mat <- function(i,j,gamma){\n",
    "    i_cord <- c(nodes$lon[nodes$adm_id == i], nodes$lat[nodes$adm_id == i])\n",
    "    j_cord <- c(nodes$lon[nodes$adm_id == j], nodes$lat[nodes$adm_id == j])\n",
    "    return(distHaversine(i_cord,j_cord))\n",
    "}"
   ]
  },
  {
   "cell_type": "code",
   "execution_count": 25,
   "metadata": {
    "vscode": {
     "languageId": "r"
    }
   },
   "outputs": [],
   "source": [
    "log_gravity <- function(i,j,p){\n",
    "    pop_i <- nodes$population[nodes$adm_id == i]\n",
    "    pop_j <- nodes$population[nodes$adm_id == j]\n",
    "    return (p[1]*p[2]*log((p[0] * pop_i * pop_j)/exp(dist_mat(i,j,p[3])/p[4])))\n",
    "}"
   ]
  },
  {
   "cell_type": "code",
   "execution_count": 28,
   "metadata": {
    "vscode": {
     "languageId": "r"
    }
   },
   "outputs": [
    {
     "data": {
      "text/html": [],
      "text/latex": [],
      "text/markdown": [],
      "text/plain": [
       "numeric(0)"
      ]
     },
     "metadata": {},
     "output_type": "display_data"
    }
   ],
   "source": [
    "log_gravity(1,2,c(1,1,1,1,1))"
   ]
  },
  {
   "cell_type": "code",
   "execution_count": 23,
   "metadata": {
    "vscode": {
     "languageId": "r"
    }
   },
   "outputs": [
    {
     "ename": "ERROR",
     "evalue": "\u001b[1m\u001b[33mError\u001b[39m in `geom_smooth()`:\u001b[22m\n\u001b[1m\u001b[22m\u001b[33m!\u001b[39m Problem while computing aesthetics.\n\u001b[36mℹ\u001b[39m Error occurred in the 1st layer.\n\u001b[1mCaused by error in `data$population`:\u001b[22m\n\u001b[33m!\u001b[39m object of type 'closure' is not subsettable\n",
     "output_type": "error",
     "traceback": [
      "\u001b[1m\u001b[33mError\u001b[39m in `geom_smooth()`:\u001b[22m\n\u001b[1m\u001b[22m\u001b[33m!\u001b[39m Problem while computing aesthetics.\n\u001b[36mℹ\u001b[39m Error occurred in the 1st layer.\n\u001b[1mCaused by error in `data$population`:\u001b[22m\n\u001b[33m!\u001b[39m object of type 'closure' is not subsettable\nTraceback:\n",
      "1. print(ggplot(data = nodes, aes(x = data$population, y = log_gravity(data$adm_id, \n .     data$adm_id, k, alpha, beta, gamma, d0))) + geom_smooth())",
      "2. print.ggplot(ggplot(data = nodes, aes(x = data$population, y = log_gravity(data$adm_id, \n .     data$adm_id, k, alpha, beta, gamma, d0))) + geom_smooth())",
      "3. ggplot_build(x)",
      "4. ggplot_build.ggplot(x)",
      "5. by_layer(function(l, d) l$compute_aesthetics(d, plot), layers, \n .     data, \"computing aesthetics\")",
      "6. try_fetch(for (i in seq_along(data)) {\n .     out[[i]] <- f(l = layers[[i]], d = data[[i]])\n . }, error = function(cnd) {\n .     cli::cli_abort(c(\"Problem while {step}.\", i = \"Error occurred in the {ordinal(i)} layer.\"), \n .         call = layers[[i]]$constructor, parent = cnd)\n . })",
      "7. tryCatch(withCallingHandlers(expr, condition = function(cnd) {\n .     {\n .         .__handler_frame__. <- TRUE\n .         .__setup_frame__. <- frame\n .         if (inherits(cnd, \"message\")) {\n .             except <- c(\"warning\", \"error\")\n .         }\n .         else if (inherits(cnd, \"warning\")) {\n .             except <- \"error\"\n .         }\n .         else {\n .             except <- \"\"\n .         }\n .     }\n .     while (!is_null(cnd)) {\n .         if (inherits(cnd, \"error\")) {\n .             out <- handlers[[1L]](cnd)\n .             if (!inherits(out, \"rlang_zap\")) \n .                 throw(out)\n .         }\n .         inherit <- .subset2(.subset2(cnd, \"rlang\"), \"inherit\")\n .         if (is_false(inherit)) {\n .             return()\n .         }\n .         cnd <- .subset2(cnd, \"parent\")\n .     }\n . }), stackOverflowError = handlers[[1L]])",
      "8. tryCatchList(expr, classes, parentenv, handlers)",
      "9. tryCatchOne(expr, names, parentenv, handlers[[1L]])",
      "10. doTryCatch(return(expr), name, parentenv, handler)",
      "11. withCallingHandlers(expr, condition = function(cnd) {\n  .     {\n  .         .__handler_frame__. <- TRUE\n  .         .__setup_frame__. <- frame\n  .         if (inherits(cnd, \"message\")) {\n  .             except <- c(\"warning\", \"error\")\n  .         }\n  .         else if (inherits(cnd, \"warning\")) {\n  .             except <- \"error\"\n  .         }\n  .         else {\n  .             except <- \"\"\n  .         }\n  .     }\n  .     while (!is_null(cnd)) {\n  .         if (inherits(cnd, \"error\")) {\n  .             out <- handlers[[1L]](cnd)\n  .             if (!inherits(out, \"rlang_zap\")) \n  .                 throw(out)\n  .         }\n  .         inherit <- .subset2(.subset2(cnd, \"rlang\"), \"inherit\")\n  .         if (is_false(inherit)) {\n  .             return()\n  .         }\n  .         cnd <- .subset2(cnd, \"parent\")\n  .     }\n  . })",
      "12. f(l = layers[[i]], d = data[[i]])",
      "13. l$compute_aesthetics(d, plot)",
      "14. compute_aesthetics(..., self = self)",
      "15. lapply(aesthetics, eval_tidy, data = data, env = env)",
      "16. FUN(X[[i]], ...)",
      "17. (function (cnd) \n  . {\n  .     {\n  .         .__handler_frame__. <- TRUE\n  .         .__setup_frame__. <- frame\n  .         if (inherits(cnd, \"message\")) {\n  .             except <- c(\"warning\", \"error\")\n  .         }\n  .         else if (inherits(cnd, \"warning\")) {\n  .             except <- \"error\"\n  .         }\n  .         else {\n  .             except <- \"\"\n  .         }\n  .     }\n  .     while (!is_null(cnd)) {\n  .         if (inherits(cnd, \"error\")) {\n  .             out <- handlers[[1L]](cnd)\n  .             if (!inherits(out, \"rlang_zap\")) \n  .                 throw(out)\n  .         }\n  .         inherit <- .subset2(.subset2(cnd, \"rlang\"), \"inherit\")\n  .         if (is_false(inherit)) {\n  .             return()\n  .         }\n  .         cnd <- .subset2(cnd, \"parent\")\n  .     }\n  . })(structure(list(message = \"object of type 'closure' is not subsettable\", \n  .     call = data$population, object = function (..., list = character(), \n  .         package = NULL, lib.loc = NULL, verbose = getOption(\"verbose\"), \n  .         envir = .GlobalEnv, overwrite = TRUE) \n  .     {\n  .         fileExt <- function(x) {\n  .             db <- grepl(\"\\\\.[^.]+\\\\.(gz|bz2|xz)$\", x)\n  .             ans <- sub(\".*\\\\.\", \"\", x)\n  .             ans[db] <- sub(\".*\\\\.([^.]+\\\\.)(gz|bz2|xz)$\", \"\\\\1\\\\2\", \n  .                 x[db])\n  .             ans\n  .         }\n  .         my_read_table <- function(...) {\n  .             lcc <- Sys.getlocale(\"LC_COLLATE\")\n  .             on.exit(Sys.setlocale(\"LC_COLLATE\", lcc))\n  .             Sys.setlocale(\"LC_COLLATE\", \"C\")\n  .             read.table(...)\n  .         }\n  .         stopifnot(is.character(list))\n  .         names <- c(as.character(substitute(list(...))[-1L]), \n  .             list)\n  .         if (!is.null(package)) {\n  .             if (!is.character(package)) \n  .                 stop(\"'package' must be a character vector or NULL\")\n  .         }\n  .         paths <- find.package(package, lib.loc, verbose = verbose)\n  .         if (is.null(lib.loc)) \n  .             paths <- c(path.package(package, TRUE), if (!length(package)) getwd(), \n  .                 paths)\n  .         paths <- unique(normalizePath(paths[file.exists(paths)]))\n  .         paths <- paths[dir.exists(file.path(paths, \"data\"))]\n  .         dataExts <- tools:::.make_file_exts(\"data\")\n  .         if (length(names) == 0L) {\n  .             db <- matrix(character(), nrow = 0L, ncol = 4L)\n  .             for (path in paths) {\n  .                 entries <- NULL\n  .                 packageName <- if (file_test(\"-f\", file.path(path, \n  .                   \"DESCRIPTION\"))) \n  .                   basename(path)\n  .                 else \".\"\n  .                 if (file_test(\"-f\", INDEX <- file.path(path, \n  .                   \"Meta\", \"data.rds\"))) {\n  .                   entries <- readRDS(INDEX)\n  .                 }\n  .                 else {\n  .                   dataDir <- file.path(path, \"data\")\n  .                   entries <- tools::list_files_with_type(dataDir, \n  .                     \"data\")\n  .                   if (length(entries)) {\n  .                     entries <- unique(tools::file_path_sans_ext(basename(entries)))\n  .                     entries <- cbind(entries, \"\")\n  .                   }\n  .                 }\n  .                 if (NROW(entries)) {\n  .                   if (is.matrix(entries) && ncol(entries) == \n  .                     2L) \n  .                     db <- rbind(db, cbind(packageName, dirname(path), \n  .                       entries))\n  .                   else warning(gettextf(\"data index for package %s is invalid and will be ignored\", \n  .                     sQuote(packageName)), domain = NA, call. = FALSE)\n  .                 }\n  .             }\n  .             colnames(db) <- c(\"Package\", \"LibPath\", \"Item\", \"Title\")\n  .             footer <- if (missing(package)) \n  .                 paste0(\"Use \", sQuote(paste(\"data(package =\", \n  .                   \".packages(all.available = TRUE))\")), \"\\n\", \n  .                   \"to list the data sets in all *available* packages.\")\n  .             else NULL\n  .             y <- list(title = \"Data sets\", header = NULL, results = db, \n  .                 footer = footer)\n  .             class(y) <- \"packageIQR\"\n  .             return(y)\n  .         }\n  .         paths <- file.path(paths, \"data\")\n  .         for (name in names) {\n  .             found <- FALSE\n  .             for (p in paths) {\n  .                 tmp_env <- if (overwrite) \n  .                   envir\n  .                 else new.env()\n  .                 if (file_test(\"-f\", file.path(p, \"Rdata.rds\"))) {\n  .                   rds <- readRDS(file.path(p, \"Rdata.rds\"))\n  .                   if (name %in% names(rds)) {\n  .                     found <- TRUE\n  .                     if (verbose) \n  .                       message(sprintf(\"name=%s:\\t found in Rdata.rds\", \n  .                         name), domain = NA)\n  .                     thispkg <- sub(\".*/([^/]*)/data$\", \"\\\\1\", \n  .                       p)\n  .                     thispkg <- sub(\"_.*$\", \"\", thispkg)\n  .                     thispkg <- paste0(\"package:\", thispkg)\n  .                     objs <- rds[[name]]\n  .                     lazyLoad(file.path(p, \"Rdata\"), envir = tmp_env, \n  .                       filter = function(x) x %in% objs)\n  .                     break\n  .                   }\n  .                   else if (verbose) \n  .                     message(sprintf(\"name=%s:\\t NOT found in names() of Rdata.rds, i.e.,\\n\\t%s\\n\", \n  .                       name, paste(names(rds), collapse = \",\")), \n  .                       domain = NA)\n  .                 }\n  .                 if (file_test(\"-f\", file.path(p, \"Rdata.zip\"))) {\n  .                   warning(\"zipped data found for package \", sQuote(basename(dirname(p))), \n  .                     \".\\nThat is defunct, so please re-install the package.\", \n  .                     domain = NA)\n  .                   if (file_test(\"-f\", fp <- file.path(p, \"filelist\"))) \n  .                     files <- file.path(p, scan(fp, what = \"\", \n  .                       quiet = TRUE))\n  .                   else {\n  .                     warning(gettextf(\"file 'filelist' is missing for directory %s\", \n  .                       sQuote(p)), domain = NA)\n  .                     next\n  .                   }\n  .                 }\n  .                 else {\n  .                   files <- list.files(p, full.names = TRUE)\n  .                 }\n  .                 files <- files[grep(name, files, fixed = TRUE)]\n  .                 if (length(files) > 1L) {\n  .                   o <- match(fileExt(files), dataExts, nomatch = 100L)\n  .                   paths0 <- dirname(files)\n  .                   paths0 <- factor(paths0, levels = unique(paths0))\n  .                   files <- files[order(paths0, o)]\n  .                 }\n  .                 if (length(files)) {\n  .                   for (file in files) {\n  .                     if (verbose) \n  .                       message(\"name=\", name, \":\\t file= ...\", \n  .                         .Platform$file.sep, basename(file), \"::\\t\", \n  .                         appendLF = FALSE, domain = NA)\n  .                     ext <- fileExt(file)\n  .                     if (basename(file) != paste0(name, \".\", ext)) \n  .                       found <- FALSE\n  .                     else {\n  .                       found <- TRUE\n  .                       zfile <- file\n  .                       zipname <- file.path(dirname(file), \"Rdata.zip\")\n  .                       if (file.exists(zipname)) {\n  .                         Rdatadir <- tempfile(\"Rdata\")\n  .                         dir.create(Rdatadir, showWarnings = FALSE)\n  .                         topic <- basename(file)\n  .                         rc <- .External(C_unzip, zipname, topic, \n  .                           Rdatadir, FALSE, TRUE, FALSE, FALSE)\n  .                         if (rc == 0L) \n  .                           zfile <- file.path(Rdatadir, topic)\n  .                       }\n  .                       if (zfile != file) \n  .                         on.exit(unlink(zfile))\n  .                       switch(ext, R = , r = {\n  .                         library(\"utils\")\n  .                         sys.source(zfile, chdir = TRUE, envir = tmp_env)\n  .                       }, RData = , rdata = , rda = load(zfile, \n  .                         envir = tmp_env), TXT = , txt = , tab = , \n  .                         tab.gz = , tab.bz2 = , tab.xz = , txt.gz = , \n  .                         txt.bz2 = , txt.xz = assign(name, my_read_table(zfile, \n  .                           header = TRUE, as.is = FALSE), envir = tmp_env), \n  .                         CSV = , csv = , csv.gz = , csv.bz2 = , \n  .                         csv.xz = assign(name, my_read_table(zfile, \n  .                           header = TRUE, sep = \";\", as.is = FALSE), \n  .                           envir = tmp_env), found <- FALSE)\n  .                     }\n  .                     if (found) \n  .                       break\n  .                   }\n  .                   if (verbose) \n  .                     message(if (!found) \n  .                       \"*NOT* \", \"found\", domain = NA)\n  .                 }\n  .                 if (found) \n  .                   break\n  .             }\n  .             if (!found) {\n  .                 warning(gettextf(\"data set %s not found\", sQuote(name)), \n  .                   domain = NA)\n  .             }\n  .             else if (!overwrite) {\n  .                 for (o in ls(envir = tmp_env, all.names = TRUE)) {\n  .                   if (exists(o, envir = envir, inherits = FALSE)) \n  .                     warning(gettextf(\"an object named %s already exists and will not be overwritten\", \n  .                       sQuote(o)))\n  .                   else assign(o, get(o, envir = tmp_env, inherits = FALSE), \n  .                     envir = envir)\n  .                 }\n  .                 rm(tmp_env)\n  .             }\n  .         }\n  .         invisible(names)\n  .     }), class = c(\"notSubsettableError\", \"error\", \"condition\"\n  . )))",
      "18. handlers[[1L]](cnd)",
      "19. cli::cli_abort(c(\"Problem while {step}.\", i = \"Error occurred in the {ordinal(i)} layer.\"), \n  .     call = layers[[i]]$constructor, parent = cnd)",
      "20. rlang::abort(message, ..., call = call, use_cli_format = TRUE, \n  .     .frame = .frame)",
      "21. signal_abort(cnd, .file)"
     ]
    }
   ],
   "source": [
    "print(\n",
    "ggplot(data=nodes,aes(x=data$population, y=log_gravity(data$adm_id,data$adm_id,k,alpha,beta,gamma,d0))) +\n",
    "    geom_smooth()\n",
    ")"
   ]
  },
  {
   "cell_type": "code",
   "execution_count": null,
   "metadata": {
    "vscode": {
     "languageId": "r"
    }
   },
   "outputs": [],
   "source": []
  }
 ],
 "metadata": {
  "kernelspec": {
   "display_name": "R",
   "language": "R",
   "name": "ir"
  },
  "language_info": {
   "codemirror_mode": "r",
   "file_extension": ".r",
   "mimetype": "text/x-r-source",
   "name": "R",
   "pygments_lexer": "r",
   "version": "4.3.3"
  }
 },
 "nbformat": 4,
 "nbformat_minor": 2
}
