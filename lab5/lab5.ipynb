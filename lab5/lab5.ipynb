{
 "cells": [
  {
   "cell_type": "markdown",
   "metadata": {},
   "source": [
    "1) Use population data to build exponential and power-law gravity models. Fit the parameters"
   ]
  },
  {
   "cell_type": "code",
   "execution_count": 2,
   "metadata": {
    "vscode": {
     "languageId": "r"
    }
   },
   "outputs": [],
   "source": [
    "library(\"geosphere\")"
   ]
  },
  {
   "cell_type": "code",
   "execution_count": 5,
   "metadata": {
    "vscode": {
     "languageId": "r"
    }
   },
   "outputs": [],
   "source": [
    "edges <- read.csv(\"/home/pietromalagoli/PCN/lab5/ITA_edges.csv\")\n",
    "nodes <- read.csv(\"/home/pietromalagoli/PCN/lab5/ITA_nodes.csv\")"
   ]
  },
  {
   "cell_type": "code",
   "execution_count": 8,
   "metadata": {
    "vscode": {
     "languageId": "r"
    }
   },
   "outputs": [
    {
     "data": {
      "text/html": [
       "<table class=\"dataframe\">\n",
       "<caption>A data.frame: 6 × 9</caption>\n",
       "<thead>\n",
       "\t<tr><th></th><th scope=col>adm_id</th><th scope=col>population</th><th scope=col>adm_name</th><th scope=col>adm_code</th><th scope=col>lat</th><th scope=col>lon</th><th scope=col>nuts3</th><th scope=col>GDPpc</th><th scope=col>urbn_type</th></tr>\n",
       "\t<tr><th></th><th scope=col>&lt;int&gt;</th><th scope=col>&lt;int&gt;</th><th scope=col>&lt;chr&gt;</th><th scope=col>&lt;chr&gt;</th><th scope=col>&lt;dbl&gt;</th><th scope=col>&lt;dbl&gt;</th><th scope=col>&lt;chr&gt;</th><th scope=col>&lt;int&gt;</th><th scope=col>&lt;int&gt;</th></tr>\n",
       "</thead>\n",
       "<tbody>\n",
       "\t<tr><th scope=row>1</th><td>1</td><td>2259523</td><td>Torino     </td><td>TO</td><td>45.14480</td><td>7.439097</td><td>ITC11</td><td>33400</td><td>1</td></tr>\n",
       "\t<tr><th scope=row>2</th><td>2</td><td> 170911</td><td>Vercelli   </td><td>VC</td><td>45.52501</td><td>8.209330</td><td>ITC12</td><td>27800</td><td>2</td></tr>\n",
       "\t<tr><th scope=row>3</th><td>3</td><td> 369018</td><td>Novara     </td><td>NO</td><td>45.56308</td><td>8.553779</td><td>ITC15</td><td>30100</td><td>2</td></tr>\n",
       "\t<tr><th scope=row>4</th><td>4</td><td> 587098</td><td>Cuneo      </td><td>CN</td><td>44.47688</td><td>7.588076</td><td>ITC16</td><td>32700</td><td>3</td></tr>\n",
       "\t<tr><th scope=row>5</th><td>5</td><td> 214638</td><td>Asti       </td><td>AT</td><td>44.87758</td><td>8.186116</td><td>ITC17</td><td>25900</td><td>3</td></tr>\n",
       "\t<tr><th scope=row>6</th><td>6</td><td> 421284</td><td>Alessandria</td><td>AL</td><td>44.82876</td><td>8.663018</td><td>ITC18</td><td>28500</td><td>3</td></tr>\n",
       "</tbody>\n",
       "</table>\n"
      ],
      "text/latex": [
       "A data.frame: 6 × 9\n",
       "\\begin{tabular}{r|lllllllll}\n",
       "  & adm\\_id & population & adm\\_name & adm\\_code & lat & lon & nuts3 & GDPpc & urbn\\_type\\\\\n",
       "  & <int> & <int> & <chr> & <chr> & <dbl> & <dbl> & <chr> & <int> & <int>\\\\\n",
       "\\hline\n",
       "\t1 & 1 & 2259523 & Torino      & TO & 45.14480 & 7.439097 & ITC11 & 33400 & 1\\\\\n",
       "\t2 & 2 &  170911 & Vercelli    & VC & 45.52501 & 8.209330 & ITC12 & 27800 & 2\\\\\n",
       "\t3 & 3 &  369018 & Novara      & NO & 45.56308 & 8.553779 & ITC15 & 30100 & 2\\\\\n",
       "\t4 & 4 &  587098 & Cuneo       & CN & 44.47688 & 7.588076 & ITC16 & 32700 & 3\\\\\n",
       "\t5 & 5 &  214638 & Asti        & AT & 44.87758 & 8.186116 & ITC17 & 25900 & 3\\\\\n",
       "\t6 & 6 &  421284 & Alessandria & AL & 44.82876 & 8.663018 & ITC18 & 28500 & 3\\\\\n",
       "\\end{tabular}\n"
      ],
      "text/markdown": [
       "\n",
       "A data.frame: 6 × 9\n",
       "\n",
       "| <!--/--> | adm_id &lt;int&gt; | population &lt;int&gt; | adm_name &lt;chr&gt; | adm_code &lt;chr&gt; | lat &lt;dbl&gt; | lon &lt;dbl&gt; | nuts3 &lt;chr&gt; | GDPpc &lt;int&gt; | urbn_type &lt;int&gt; |\n",
       "|---|---|---|---|---|---|---|---|---|---|\n",
       "| 1 | 1 | 2259523 | Torino      | TO | 45.14480 | 7.439097 | ITC11 | 33400 | 1 |\n",
       "| 2 | 2 |  170911 | Vercelli    | VC | 45.52501 | 8.209330 | ITC12 | 27800 | 2 |\n",
       "| 3 | 3 |  369018 | Novara      | NO | 45.56308 | 8.553779 | ITC15 | 30100 | 2 |\n",
       "| 4 | 4 |  587098 | Cuneo       | CN | 44.47688 | 7.588076 | ITC16 | 32700 | 3 |\n",
       "| 5 | 5 |  214638 | Asti        | AT | 44.87758 | 8.186116 | ITC17 | 25900 | 3 |\n",
       "| 6 | 6 |  421284 | Alessandria | AL | 44.82876 | 8.663018 | ITC18 | 28500 | 3 |\n",
       "\n"
      ],
      "text/plain": [
       "  adm_id population adm_name    adm_code lat      lon      nuts3 GDPpc\n",
       "1 1      2259523    Torino      TO       45.14480 7.439097 ITC11 33400\n",
       "2 2       170911    Vercelli    VC       45.52501 8.209330 ITC12 27800\n",
       "3 3       369018    Novara      NO       45.56308 8.553779 ITC15 30100\n",
       "4 4       587098    Cuneo       CN       44.47688 7.588076 ITC16 32700\n",
       "5 5       214638    Asti        AT       44.87758 8.186116 ITC17 25900\n",
       "6 6       421284    Alessandria AL       44.82876 8.663018 ITC18 28500\n",
       "  urbn_type\n",
       "1 1        \n",
       "2 2        \n",
       "3 2        \n",
       "4 3        \n",
       "5 3        \n",
       "6 3        "
      ]
     },
     "metadata": {},
     "output_type": "display_data"
    }
   ],
   "source": [
    "head(nodes)"
   ]
  },
  {
   "cell_type": "code",
   "execution_count": null,
   "metadata": {
    "vscode": {
     "languageId": "r"
    }
   },
   "outputs": [],
   "source": [
    "[1,:population]"
   ]
  },
  {
   "cell_type": "code",
   "execution_count": 18,
   "metadata": {
    "vscode": {
     "languageId": "r"
    }
   },
   "outputs": [],
   "source": [
    "dist_mat <- function(i,j,gamma){\n",
    "    i_cord <- c(nodes$lon[nodes$adm_id == i], nodes$lat[nodes$adm_id == i])\n",
    "    j_cord <- c(nodes$lon[nodes$adm_id == j], nodes$lat[nodes$adm_id == j])\n",
    "    return(distHaversine(i_cord,j_cord))\n",
    "}"
   ]
  },
  {
   "cell_type": "code",
   "execution_count": 19,
   "metadata": {
    "vscode": {
     "languageId": "r"
    }
   },
   "outputs": [],
   "source": [
    "log_gravity <- function(i,j,k,alpha,beta,gamma,d0){\n",
    "    pop_i <- nodes$population[nodes$adm_id == i]\n",
    "    pop_j <- nodes$population[nodes$adm_id == j]\n",
    "    return (alpha*beta*log((k * pop_i * pop_j)/exp(dist_mat(i,j,gamma)/d0)))\n",
    "}"
   ]
  },
  {
   "cell_type": "code",
   "execution_count": 20,
   "metadata": {
    "vscode": {
     "languageId": "r"
    }
   },
   "outputs": [
    {
     "data": {
      "text/html": [
       "-Inf"
      ],
      "text/latex": [
       "-Inf"
      ],
      "text/markdown": [
       "-Inf"
      ],
      "text/plain": [
       "[1] -Inf"
      ]
     },
     "metadata": {},
     "output_type": "display_data"
    }
   ],
   "source": [
    "log_gravity(1,2,1,1,1,1,1)"
   ]
  }
 ],
 "metadata": {
  "kernelspec": {
   "display_name": "R",
   "language": "R",
   "name": "ir"
  },
  "language_info": {
   "codemirror_mode": "r",
   "file_extension": ".r",
   "mimetype": "text/x-r-source",
   "name": "R",
   "pygments_lexer": "r",
   "version": "4.3.3"
  }
 },
 "nbformat": 4,
 "nbformat_minor": 2
}
