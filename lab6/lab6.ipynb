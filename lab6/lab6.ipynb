{
 "cells": [
  {
   "cell_type": "markdown",
   "metadata": {},
   "source": [
    "## The Model ##"
   ]
  },
  {
   "cell_type": "markdown",
   "metadata": {},
   "source": [
    "\\begin{aligned}\n",
    "& \\dot{S}_{i}=-\\beta_{i} S_{i}(t) \\frac{I_{i}(t)}{N_{i}(t)}+\\frac{1}{\\epsilon}\\left[\\sum_{j} \\Phi_{j i} S_{j}(t)-\\sum_{j} \\Phi_{i j} S_{i}(t)\\right] \\\\\n",
    "& \\dot{I}_{i}=\\beta_{i} S_{i}(t) \\frac{I_{i}(t)}{N_{i}(t)}-\\gamma I_{i}(t)+\\frac{1}{\\epsilon}\\left[\\sum_{j} \\Phi_{j i} I_{j}(t)-\\sum_{j} \\Phi_{i j} I_{i}(t)\\right] \\\\\n",
    "& \\dot{R}_{i}=\\gamma I_{i}(t)+\\frac{1}{\\epsilon}\\left[\\sum_{j} \\Phi_{j i} R_{j}(t)-\\sum_{j} \\Phi_{i j} R_{i}(t)\\right]\n",
    "\\end{aligned}"
   ]
  },
  {
   "cell_type": "code",
   "execution_count": 3,
   "metadata": {
    "vscode": {
     "languageId": "r"
    }
   },
   "outputs": [],
   "source": [
    "library(deSolve)"
   ]
  },
  {
   "cell_type": "code",
   "execution_count": 6,
   "metadata": {
    "vscode": {
     "languageId": "r"
    }
   },
   "outputs": [],
   "source": [
    "nodes <- read.csv(\"ITA_nodes.csv\")\n",
    "edges <- read.csv(\"ITA_edges.csv\")"
   ]
  },
  {
   "cell_type": "code",
   "execution_count": null,
   "metadata": {
    "vscode": {
     "languageId": "r"
    }
   },
   "outputs": [],
   "source": [
    "## deprecated\n",
    "\n",
    "SIR <- function(){\n",
    "  beta <- 0.5\n",
    "  gamma <- 0.2\n",
    "  epsilon <- 1\n",
    "  n <- length(nodes$population)\n",
    "  N <- sum(nodes$population)\n",
    "  times <- seq(0,200)\n",
    "  param <- c(beta, gamma, epsilon)\n",
    "\n",
    "  S<-nodes$population\n",
    "  S[nodes$adm_name == \"Padova\"] <- S[nodes$adm_name == \"Padova\"] - 20\n",
    "  I<-rep(0,n)\n",
    "  I[nodes$adm_name == \"Padova\"] <- 20\n",
    "  R<-rep(0,n)\n",
    "\n",
    "  state<-c(S,I,R)\n",
    "\n",
    "  odes <- function(t, state, param){\n",
    "    with(as.list(c(param, state)), {\n",
    "      S = matrix(state[1:n], nrow = n, ncol=1) ## state are patches\n",
    "      I = matrix(state[(n+1):2*n], nrow = n, ncol=1)\n",
    "      R = matrix(state[(2*n+1):3*n], nrow = n, ncol=1)\n",
    "\n",
    "      beta <- beta\n",
    "      gamma <- gamma\n",
    "      epsilon <- epsilon\n",
    "\n",
    "      dS <- numeric(legth(S)) ## You have to initialize them\n",
    "      dI <- numeric(legth(I))\n",
    "      dR <- numeric(legth(R))\n",
    "\n",
    "      for (i in 1:n){ ## for da 1 a n per S,I,R\n",
    "          dS[i] <- -beta * S[i] * (I[i] / N[i]) + (1 / epsilon)*(rowSums(mat[,i] * S[] - rowSums(mat[i,]*S[i])))\n",
    "          dI[i] <- beta * S[i] * (I[i] / N[i]) - gamma * I[i] + (1 / epsilon)*(rowSums(mat[,i] * I[] - rowSums(mat[i,]*I[i])))\n",
    "          dR[i] <- gamma * I[i] + (1 / epsilon)*(rowSums(mat[,i] * R[] - rowSums(mat[i,]*R[i])))\n",
    "      }\n",
    "      \n",
    "      list(c(dS,dI,dR))\n",
    "    })\n",
    "  }\n",
    "\n",
    "  mout <- lsoda (state, times, odes, param)\n",
    "\n",
    "}\n"
   ]
  },
  {
   "cell_type": "code",
   "execution_count": 2,
   "metadata": {
    "vscode": {
     "languageId": "r"
    }
   },
   "outputs": [
    {
     "ename": "ERROR",
     "evalue": "Error in eval(expr, envir, enclos): object 'mat_rad' not found\n",
     "output_type": "error",
     "traceback": [
      "Error in eval(expr, envir, enclos): object 'mat_rad' not found\nTraceback:\n"
     ]
    }
   ],
   "source": [
    "library(deSolve)\n",
    "library(geosphere)\n",
    "\n",
    "nodes <- read.csv(\"ITA_nodes.csv\")\n",
    "edges <- read.csv(\"ITA_edges.csv\")\n",
    "\n",
    "distancies <- matrix(0, nrow = nrow(nodes), ncol = nrow(nodes))\n",
    "\n",
    "for (i in 1:nrow(nodes)) {\n",
    "  for (j in 1:nrow(nodes)) {\n",
    "    distancies[i, j] <- distHaversine(c(nodes$lon[i], nodes$lat[i]), c(nodes$lon[j], nodes$lat[j]))\n",
    "  }\n",
    "}\n",
    "\n",
    "mat<-mat_rad/colSums(mat_rad)\n",
    "beta<-0.5\n",
    "gamma<-0.2\n",
    "epsilon<-1\n",
    "n<-length(nodes$population)\n",
    "N<-sum(nodes$population)\n",
    "\n",
    "odes <- function(t, state, param){\n",
    "  with(as.list(c(param, state)), { #state sono i patches\n",
    "    S = matrix(state[1:n], nrow = n, ncol=1)\n",
    "    I = matrix(state[(n+1):(2*n)], nrow = n, ncol=1)\n",
    "    R = matrix(state[(2*n+1):(3*n)], nrow = n, ncol=1)\n",
    "    #print(sum(I)+sum(S)+sum(R))\n",
    "    dI <- numeric(length(I))\n",
    "    dS <- numeric(length(S))\n",
    "    dR <- numeric(length(R))\n",
    "    \n",
    "    beta <- beta\n",
    "    gamma <- gamma\n",
    "    epsilon <- epsilon\n",
    "    \n",
    "    for(i in 1:n){\n",
    "      dS[i] <- -beta*S[i]*I[i]/(S[i]+I[i]+R[i]) + 1/epsilon * (sum(mat[,i]*S[]) - sum(mat[i,]*S[i]))\n",
    "      dI[i] <- beta*S[i]*I[i]/(S[i]+I[i]+R[i]) + 1/epsilon * (sum(mat[,i]*I[]) - sum(mat[i,]*I[i])) - gamma*I[i]\n",
    "      dR[i] <- gamma*I[i] + 1/epsilon * (sum(mat[,i]*R[]) - sum(mat[i,]*R[i]))\n",
    "    }\n",
    "    list(c(dS,dI,dR))\n",
    "  })\n",
    "}\n",
    "\n",
    "S<-nodes$population\n",
    "S[nodes$adm_name==\"Padova\"]<-S[nodes$adm_name==\"Padova\"]-20\n",
    "I<-rep(0,n)\n",
    "I[nodes$adm_name==\"Padova\"]<-20\n",
    "R<-rep(0,n)\n",
    "\n",
    "state<-c(S,I,R)\n",
    "param <- c(beta, gamma, epsilon)\n",
    "times <- seq(1,200, by=1)\n",
    "mout<-ode (state, times, odes, param)\n",
    "\n",
    "mou <- as.data.frame(mout)\n",
    "df<-data.frame(tempo=1, sus=sum(mou[1,2:n]), inf=sum(mou[1,(n+1):(2*n)]), rec=sum(mou[1,(2*n+1):(3*n)]))\n",
    "for(t in 2:max(mou$time)){\n",
    "  df <- rbind(df,data.frame(tempo=t, sus=sum(mou[t,2:n]), inf=sum(mou[t,(n+1):(2*n)]), rec=sum(mou[t,(2*n+1):(3*n)])))\n",
    "}\n",
    "p1_m <- ggplot(data=df) +\n",
    "  theme_bw() + theme(legend.title = element_text(size = 2.5), legend.text = element_text(size = 5),legend.position=\"right\") +\n",
    "  scale_color_manual(values = c(\n",
    "    'suscetible'= 'dodgerblue2',\n",
    "    'infected' = 'red',\n",
    "    'recovered' = 'green3')) +\n",
    "  geom_line(aes(x=tempo, y=inf, colour=\"infected\"), stat=\"identity\") + geom_line(aes(x=tempo, y=rec, colour=\"recovered\"), stat=\"identity\") + geom_line(aes(x=tempo, y=sus, colour=\"suscetible\"), stat=\"identity\")+\n",
    "  labs(color = '   ')+scale_fill_discrete(labels=c('R', 'S', 'I'))+\n",
    "  ggtitle(paste(\"\")) + ylab(\"Individuals\") + xlab(\"Time\")\n",
    "print(p1_m)"
   ]
  },
  {
   "cell_type": "code",
   "execution_count": null,
   "metadata": {
    "vscode": {
     "languageId": "r"
    }
   },
   "outputs": [],
   "source": []
  }
 ],
 "metadata": {
  "kernelspec": {
   "display_name": "R",
   "language": "R",
   "name": "ir"
  },
  "language_info": {
   "codemirror_mode": "r",
   "file_extension": ".r",
   "mimetype": "text/x-r-source",
   "name": "R",
   "pygments_lexer": "r",
   "version": "4.3.3"
  }
 },
 "nbformat": 4,
 "nbformat_minor": 2
}
